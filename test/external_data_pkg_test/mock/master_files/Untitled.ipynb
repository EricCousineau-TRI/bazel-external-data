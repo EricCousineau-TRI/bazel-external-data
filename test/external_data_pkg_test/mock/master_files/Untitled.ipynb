{
 "cells": [
  {
   "cell_type": "code",
   "execution_count": 1,
   "metadata": {},
   "outputs": [],
   "source": [
    "import tarfile"
   ]
  },
  {
   "cell_type": "code",
   "execution_count": 2,
   "metadata": {},
   "outputs": [],
   "source": [
    "f = tarfile.open(\"test_data.tar.gz\")"
   ]
  },
  {
   "cell_type": "code",
   "execution_count": 6,
   "metadata": {},
   "outputs": [
    {
     "data": {
      "text/plain": [
       "[<TarInfo 'test_data/subdir' at 0x7f5bbc27fa10>,\n",
       " <TarInfo 'test_data/subdir/c.txt' at 0x7f5bbc27fb10>,\n",
       " <TarInfo 'test_data/b.txt' at 0x7f5bbc27fc10>,\n",
       " <TarInfo 'test_data/a.txt' at 0x7f5bbc295610>,\n",
       " <TarInfo 'test_data' at 0x7f5bbc295750>]"
      ]
     },
     "execution_count": 6,
     "metadata": {},
     "output_type": "execute_result"
    }
   ],
   "source": []
  },
  {
   "cell_type": "code",
   "execution_count": 7,
   "metadata": {},
   "outputs": [],
   "source": [
    "members = [member for member in f.getmembers() if member.isfile()]"
   ]
  },
  {
   "cell_type": "code",
   "execution_count": 8,
   "metadata": {},
   "outputs": [
    {
     "data": {
      "text/plain": [
       "[<TarInfo 'test_data/subdir/c.txt' at 0x7f5bbc27fb10>,\n",
       " <TarInfo 'test_data/b.txt' at 0x7f5bbc27fc10>,\n",
       " <TarInfo 'test_data/a.txt' at 0x7f5bbc295610>]"
      ]
     },
     "execution_count": 8,
     "metadata": {},
     "output_type": "execute_result"
    }
   ],
   "source": [
    "members"
   ]
  },
  {
   "cell_type": "code",
   "execution_count": null,
   "metadata": {},
   "outputs": [],
   "source": []
  }
 ],
 "metadata": {
  "kernelspec": {
   "display_name": "Python 2",
   "language": "python",
   "name": "python2"
  },
  "language_info": {
   "codemirror_mode": {
    "name": "ipython",
    "version": 2
   },
   "file_extension": ".py",
   "mimetype": "text/x-python",
   "name": "python",
   "nbconvert_exporter": "python",
   "pygments_lexer": "ipython2",
   "version": "2.7.12"
  }
 },
 "nbformat": 4,
 "nbformat_minor": 2
}
